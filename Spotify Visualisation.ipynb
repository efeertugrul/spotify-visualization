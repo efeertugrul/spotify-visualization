{
 "cells": [
  {
   "cell_type": "code",
   "execution_count": 2,
   "metadata": {},
   "outputs": [
    {
     "name": "stdout",
     "output_type": "stream",
     "text": [
      "{'display_name': 'efeertugrul', 'external_urls': {'spotify': 'https://open.spotify.com/user/efeertugrul'}, 'followers': {'href': None, 'total': 47}, 'href': 'https://api.spotify.com/v1/users/efeertugrul', 'id': 'efeertugrul', 'images': [{'height': None, 'url': 'https://i.scdn.co/image/ab6775700000ee855be5f1690e1a5d5624995f67', 'width': None}], 'type': 'user', 'uri': 'spotify:user:efeertugrul'}\n"
     ]
    }
   ],
   "source": [
    "import json\n",
    "import spotipy\n",
    "import pandas as pd\n",
    "from spotipy.oauth2 import SpotifyClientCredentials\n",
    "import re\n",
    "from key_file import *\n",
    "\n",
    "client_credentials_manager = SpotifyClientCredentials(client_id, client_secret)\n",
    "sp = spotipy.Spotify(client_credentials_manager=client_credentials_manager)\n",
    "\n",
    "user = sp.user(user_name)\n",
    "print(user)\n"
   ]
  },
  {
   "cell_type": "code",
   "execution_count": 4,
   "metadata": {
    "scrolled": true
   },
   "outputs": [
    {
     "data": {
      "text/plain": [
       "'    @classmethod\\n    def generate_track_df(cls, playlists):\\n        \"\"\"TODO generate a dataframe using nap method and track features method\\n            return a dataframe including all songs in a playlist or all songs in a list of playlists\\n            \\n            future work:\\n            delete rows if it has duplicate\\n        \"\"\"\\n        \\n        for playlist in playlists:\\n            \\n        return None'"
      ]
     },
     "execution_count": 4,
     "metadata": {},
     "output_type": "execute_result"
    }
   ],
   "source": [
    "class Spotify_Tools:\n",
    "    feature_names\n",
    "    @staticmethod\n",
    "    def user_to_playlist_uris(username):\n",
    "        #returns users playlist uris\n",
    "        playlists = sp.user_playlists(username)\n",
    "        playlist_uris = []\n",
    "        while playlists:\n",
    "            for playlist in playlists['items']:\n",
    "                x = re.search(\"(?<=spotify:playlist:)(.)*\", playlist['uri'])\n",
    "                playlist_uris.append(x.group(0))\n",
    "            if playlists['next']:\n",
    "                playlists = sp.next(playlists)\n",
    "            else:\n",
    "                playlists = None\n",
    "        return playlist_uris\n",
    "\n",
    "    @staticmethod\n",
    "    def user_to_playlist_names(username):\n",
    "        #returns user's playlist names\n",
    "        playlists = sp.user_playlists(username)\n",
    "        playlist_names = []\n",
    "        while playlists:\n",
    "            for playlist in playlists['items']:\n",
    "                playlist_names.append(playlist['name'])\n",
    "            if playlists['next']:\n",
    "                playlists = sp.next(playlists)\n",
    "            else:\n",
    "                playlists = None\n",
    "        return playlist_names\n",
    "    \n",
    "    @staticmethod\n",
    "    def playlist_to_track_ids(playlist_uri):\n",
    "        #returns track ids in a playlist\n",
    "        response = sp.playlist_items(playlist_uri, 'items.track.id')\n",
    "        track_list = [x['track']['id'] for x in response['items']]\n",
    "        return track_list\n",
    "    @staticmethod\n",
    "    def track_feature(track_id):\n",
    "        #returns track or tracks audio features \n",
    "        feature_dictionary = sp.audio_features(track_id)\n",
    "        return feature_dictionary\n",
    "    \n",
    "    @classmethod\n",
    "    def user_to_playlists(cls, username):\n",
    "        #returns user's playlists as a list\n",
    "        u_playlists = sp.user_playlists(username)\n",
    "        playlists = []\n",
    "        playlist_uri = \"\"\n",
    "        while u_playlists:\n",
    "            for playlist in u_playlists['items']:\n",
    "                x = re.search(\"(?<=spotify:playlist:)(.)*\", playlist['uri'])\n",
    "                playlist_uri = x.group(0)\n",
    "                name = playlist['name']\n",
    "                playlists.append({\"title\": name, \"song_ids\": cls.playlist_to_track_ids(playlist_uri)})\n",
    "            if u_playlists['next']:\n",
    "                u_playlists = sp.next(u_playlists)\n",
    "            else:\n",
    "                u_playlists = None\n",
    "        return playlists\n",
    "    \n",
    "    @staticmethod\n",
    "    def track_artists(track_id):\n",
    "        #returns artists\n",
    "        meta = sp.track(track_id)\n",
    "        s = ', '\n",
    "        artist=s.join([singer_name['name'] for singer_name in meta['artists']])\n",
    "        return artist\n",
    "    @staticmethod\n",
    "    def track_popularity(track_id):\n",
    "        #returns popularity\n",
    "        meta = sp.track(track_id)\n",
    "        return meta[\"popularity\"]\n",
    "    @staticmethod\n",
    "    def track_n_a_p(track_id):\n",
    "        #returns name, artists, and popularity as a tuple\n",
    "        meta = sp.track(track_id)\n",
    "        s = ', '\n",
    "        artist=s.join([singer_name['name'] for singer_name in meta['artists']])\n",
    "        return meta[\"name\"], artist, meta[\"popularity\"]\n",
    "\"\"\"    @classmethod\n",
    "    def generate_track_df(cls, playlists):\n",
    "        \\\"\"\"TODO generate a dataframe using nap method and track features method\n",
    "            return a dataframe including all songs in a playlist or all songs in a list of playlists\n",
    "            \n",
    "            future work:\n",
    "            delete rows if it has duplicate\n",
    "        \\\"\"\"\n",
    "        \n",
    "        for playlist in playlists:\n",
    "            \n",
    "        return None\"\"\""
   ]
  },
  {
   "cell_type": "code",
   "execution_count": 5,
   "metadata": {},
   "outputs": [],
   "source": [
    "def generate_track_df(playlists, is_multiple=True, p_name = ''):\n",
    "    \"\"\"\n",
    "    playlists: list of dictionary with title and song_ids keys or a single playlist\n",
    "    is_multiple: if the input is a list of playlists or just a single playlist\n",
    "    p_name: if is_multiple parameter is true then the name of the playlist is provided using this parameter\n",
    "    \"\"\"\n",
    "    \n",
    "    dict_keys = ['playlist_name', 'track_id', 'track_name', 'danceability', 'energy', 'key', \n",
    "     'loudness', 'mode', 'speechiness', 'acousticness', 'instrumentalness',\n",
    "     'liveness', 'valence', 'tempo', 'type', 'id', 'uri', 'track_href',\n",
    "     'analysis_url', 'duration_ms', 'time_signature', 'popularity']\n",
    "    song_dict = dict.fromkeys(dict_keys)\n",
    "    \n",
    "    for x in song_dict:\n",
    "        song_dict[x] = []\n",
    "        \n",
    "    if not is_multiple:\n",
    "        playlist_name = p_name\n",
    "        for song_id in playlist:\n",
    "            song_features = cls.track_feature(song_id)\n",
    "            \n",
    "                \n",
    "    \n",
    "    playlist_name = ''\n",
    "    for playlist in playlists:\n",
    "        playlist_name = playlist\n",
    "    return None"
   ]
  },
  {
   "cell_type": "code",
   "execution_count": 6,
   "metadata": {},
   "outputs": [],
   "source": [
    "playlist_uris = Spotify_Tools.user_to_playlist_uris(user_name)\n",
    "track_ids = Spotify_Tools.playlist_to_track_ids(playlist_uris[0])"
   ]
  },
  {
   "cell_type": "code",
   "execution_count": 6,
   "metadata": {},
   "outputs": [
    {
     "data": {
      "text/plain": [
       "False"
      ]
     },
     "execution_count": 6,
     "metadata": {},
     "output_type": "execute_result"
    }
   ],
   "source": [
    "not True"
   ]
  },
  {
   "cell_type": "code",
   "execution_count": 3,
   "metadata": {},
   "outputs": [
    {
     "ename": "NameError",
     "evalue": "name 'Spotify_Tools' is not defined",
     "output_type": "error",
     "traceback": [
      "\u001b[0;31m---------------------------------------------------------------------------\u001b[0m",
      "\u001b[0;31mNameError\u001b[0m                                 Traceback (most recent call last)",
      "Input \u001b[0;32mIn [3]\u001b[0m, in \u001b[0;36m<cell line: 1>\u001b[0;34m()\u001b[0m\n\u001b[0;32m----> 1\u001b[0m playlists \u001b[38;5;241m=\u001b[39m \u001b[43mSpotify_Tools\u001b[49m\u001b[38;5;241m.\u001b[39muser_to_playlists(user_name)\n",
      "\u001b[0;31mNameError\u001b[0m: name 'Spotify_Tools' is not defined"
     ]
    }
   ],
   "source": [
    "playlists = Spotify_Tools.user_to_playlists(user_name)"
   ]
  },
  {
   "cell_type": "code",
   "execution_count": 9,
   "metadata": {},
   "outputs": [
    {
     "name": "stdout",
     "output_type": "stream",
     "text": [
      "['danceability', 'energy', 'key', 'loudness', 'mode', 'speechiness', 'acousticness', 'instrumentalness', 'liveness', 'valence', 'tempo', 'type', 'id', 'uri', 'track_href', 'analysis_url', 'duration_ms', 'time_signature']\n",
      "\n"
     ]
    }
   ],
   "source": [
    "for playlist in playlists:\n",
    "    features = Spotify_Tools.track_feature(playlist['song_ids'])\n",
    "    #print(Spotify_Tools.track_feature(playlist['song_ids']))\n",
    "    keys = list(features[0].keys())\n",
    "    print(keys)\n",
    "    #features[0][\"name\"]\n",
    "    print()\n",
    "    break"
   ]
  },
  {
   "cell_type": "code",
   "execution_count": 10,
   "metadata": {},
   "outputs": [],
   "source": [
    "#sp.audio_features(playlists[0]['song_ids'])\n",
    "track_info = sp.track(playlists[0]['song_ids'][0])"
   ]
  },
  {
   "cell_type": "code",
   "execution_count": 11,
   "metadata": {},
   "outputs": [
    {
     "name": "stdout",
     "output_type": "stream",
     "text": [
      "dict_keys(['album', 'artists', 'available_markets', 'disc_number', 'duration_ms', 'explicit', 'external_ids', 'external_urls', 'href', 'id', 'is_local', 'name', 'popularity', 'preview_url', 'track_number', 'type', 'uri'])\n",
      "[{'external_urls': {'spotify': 'https://open.spotify.com/artist/6om12Ev5ppgoMy3OYSoech'}, 'href': 'https://api.spotify.com/v1/artists/6om12Ev5ppgoMy3OYSoech', 'id': '6om12Ev5ppgoMy3OYSoech', 'name': 'Halestorm', 'type': 'artist', 'uri': 'spotify:artist:6om12Ev5ppgoMy3OYSoech'}]\n",
      "Bad Romance\n",
      "Halestorm\n",
      "64\n"
     ]
    }
   ],
   "source": [
    "print(track_info.keys())\n",
    "print(track_info['artists'])\n",
    "print(track_info['name'])\n",
    "print(Spotify_Tools.track_artists(playlists[0]['song_ids'][0]))\n",
    "print(Spotify_Tools.track_popularity(playlists[0]['song_ids'][0]))"
   ]
  }
 ],
 "metadata": {
  "kernelspec": {
   "display_name": "Python 3 (ipykernel)",
   "language": "python",
   "name": "python3"
  },
  "language_info": {
   "codemirror_mode": {
    "name": "ipython",
    "version": 3
   },
   "file_extension": ".py",
   "mimetype": "text/x-python",
   "name": "python",
   "nbconvert_exporter": "python",
   "pygments_lexer": "ipython3",
   "version": "3.8.10"
  }
 },
 "nbformat": 4,
 "nbformat_minor": 4
}
